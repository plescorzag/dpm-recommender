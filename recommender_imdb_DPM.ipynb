{
  "cells": [
    {
      "cell_type": "markdown",
      "metadata": {
        "id": "snamCmMTaMVx"
      },
      "source": [
        "# The Age of the Recommedation"
      ]
    },
    {
      "attachments": {},
      "cell_type": "markdown",
      "metadata": {},
      "source": [
        "## How to use this Notebook\n",
        "\n",
        "You can open it at https://colab.research.google.com\n",
        "\n",
        "You require two files from the IMBD (Internet Movie Data Base) named *movies.csv* and *ratings.csv* that should be uploaded to Google Colab"
      ]
    },
    {
      "attachments": {},
      "cell_type": "markdown",
      "metadata": {
        "id": "15eQ8N1saMVy"
      },
      "source": [
        "## Import libraries"
      ]
    },
    {
      "cell_type": "code",
      "execution_count": null,
      "metadata": {
        "id": "MM3YVMYqaMVz"
      },
      "outputs": [],
      "source": [
        "import numpy as np\n",
        "import pandas as pd \n",
        "\n",
        "from matplotlib import pyplot as plt \n",
        "import seaborn as sns\n",
        "\n",
        "import scipy as sp\n",
        "from sklearn.metrics.pairwise import cosine_similarity\n",
        "\n",
        "%matplotlib inline\n",
        "plt.style.use('ggplot')\n",
        "pd.options.display.max_rows = 999"
      ]
    },
    {
      "cell_type": "markdown",
      "metadata": {
        "id": "EIeaWHVyaMVz"
      },
      "source": [
        "## Import data"
      ]
    },
    {
      "cell_type": "code",
      "execution_count": null,
      "metadata": {
        "id": "cnNIn8x3aMV0"
      },
      "outputs": [],
      "source": [
        "file_dir = '/content/'"
      ]
    },
    {
      "cell_type": "code",
      "execution_count": null,
      "metadata": {
        "id": "v9tY0QV-aMV0"
      },
      "outputs": [],
      "source": [
        "ratings_ = pd.read_csv(file_dir + 'ratings.csv')"
      ]
    },
    {
      "cell_type": "code",
      "execution_count": null,
      "metadata": {
        "id": "jV3MLt4IaMV0",
        "tags": []
      },
      "outputs": [],
      "source": [
        "ratings_.info()"
      ]
    },
    {
      "cell_type": "code",
      "execution_count": null,
      "metadata": {
        "id": "VYjjRLX8aMV1"
      },
      "outputs": [],
      "source": [
        "ratings_.head(10)"
      ]
    },
    {
      "cell_type": "code",
      "execution_count": null,
      "metadata": {
        "id": "zaHj8bLpaMV1"
      },
      "outputs": [],
      "source": [
        "ratings_.describe()"
      ]
    },
    {
      "cell_type": "code",
      "execution_count": null,
      "metadata": {
        "id": "ARxPTBVpaMV1"
      },
      "outputs": [],
      "source": [
        "sns.countplot(x='rating', data=ratings_)"
      ]
    },
    {
      "cell_type": "code",
      "execution_count": null,
      "metadata": {
        "id": "Mcgt38WVaMV2"
      },
      "outputs": [],
      "source": [
        "movies_ = pd.read_csv(file_dir + 'movies.csv')"
      ]
    },
    {
      "cell_type": "code",
      "execution_count": null,
      "metadata": {
        "id": "gi276xb0aMV2",
        "tags": []
      },
      "outputs": [],
      "source": [
        "movies_.info()"
      ]
    },
    {
      "cell_type": "code",
      "execution_count": null,
      "metadata": {
        "id": "4vBjLYZsaMV2"
      },
      "outputs": [],
      "source": [
        "movies_.head().T"
      ]
    },
    {
      "attachments": {},
      "cell_type": "markdown",
      "metadata": {},
      "source": [
        "## Merge of ratings data with movies metadata\n",
        "Get the movie title into ratings data"
      ]
    },
    {
      "cell_type": "code",
      "execution_count": null,
      "metadata": {
        "id": "C1l_DvrfaMV2"
      },
      "outputs": [],
      "source": [
        "rated_movies = ratings_.merge(movies_, left_on='movieId', right_on='movieId')[['userId', 'movieId','title', 'rating']]"
      ]
    },
    {
      "cell_type": "code",
      "execution_count": null,
      "metadata": {
        "id": "a1WktV5-aMV2"
      },
      "outputs": [],
      "source": [
        "rated_movies.head()"
      ]
    },
    {
      "attachments": {},
      "cell_type": "markdown",
      "metadata": {},
      "source": [
        "## EDA - Exploratory Data Analysis"
      ]
    },
    {
      "cell_type": "code",
      "execution_count": null,
      "metadata": {
        "id": "M6ctUYnfaMV3"
      },
      "outputs": [],
      "source": [
        "mean_ratings = rated_movies.pivot_table(index='title', values='rating', aggfunc=[np.mean, len])"
      ]
    },
    {
      "cell_type": "code",
      "execution_count": null,
      "metadata": {
        "id": "YptUxg9oaMV3"
      },
      "outputs": [],
      "source": [
        "mean_ratings.columns = ['mean_rating', 'ratings']"
      ]
    },
    {
      "cell_type": "code",
      "execution_count": null,
      "metadata": {
        "id": "zxoVsaJTaMV3"
      },
      "outputs": [],
      "source": [
        "mean_ratings.head()"
      ]
    },
    {
      "cell_type": "code",
      "execution_count": null,
      "metadata": {
        "id": "NAjUuiSUaMV3"
      },
      "outputs": [],
      "source": [
        "mean_ratings.describe()"
      ]
    },
    {
      "cell_type": "code",
      "execution_count": null,
      "metadata": {
        "id": "kufEid7laMV4"
      },
      "outputs": [],
      "source": [
        "mean_ratings[mean_ratings['ratings'] > 50].sort_values(by='mean_rating', ascending=False).head(10)"
      ]
    },
    {
      "cell_type": "code",
      "execution_count": null,
      "metadata": {
        "id": "Tk_20KTwaMV4"
      },
      "outputs": [],
      "source": [
        "mean_ratings[mean_ratings.index.str.contains('Indiana Jones')]"
      ]
    },
    {
      "cell_type": "code",
      "execution_count": null,
      "metadata": {
        "id": "eKsDbJQ6aMV4"
      },
      "outputs": [],
      "source": [
        "# pivot ratings into movie features\n",
        "ratings_pivot = rated_movies.pivot_table(\n",
        "    index='userId',\n",
        "    columns='title',\n",
        "    aggfunc=np.mean,\n",
        "    values='rating'\n",
        ").fillna(0)"
      ]
    },
    {
      "cell_type": "code",
      "execution_count": null,
      "metadata": {
        "id": "imULJ48caMV4",
        "tags": []
      },
      "outputs": [],
      "source": [
        "ratings_pivot.info()"
      ]
    },
    {
      "cell_type": "code",
      "execution_count": null,
      "metadata": {
        "id": "4w5VS25caMV5"
      },
      "outputs": [],
      "source": [
        "ratings_pivot.head(10).T.head(10)"
      ]
    },
    {
      "attachments": {},
      "cell_type": "markdown",
      "metadata": {},
      "source": [
        "## Calculate cosine similarity between users and between movies"
      ]
    },
    {
      "cell_type": "code",
      "execution_count": null,
      "metadata": {
        "id": "98CeX560aMV5"
      },
      "outputs": [],
      "source": [
        "sparse_ratings = sp.sparse.csr_matrix(ratings_pivot.values)"
      ]
    },
    {
      "cell_type": "code",
      "execution_count": null,
      "metadata": {
        "id": "W5nFBneaaMV5"
      },
      "outputs": [],
      "source": [
        "user_similarity = cosine_similarity(sparse_ratings)\n",
        "item_similarity = cosine_similarity(sparse_ratings.T)"
      ]
    },
    {
      "cell_type": "code",
      "execution_count": null,
      "metadata": {
        "id": "r34NOftoaMV5"
      },
      "outputs": [],
      "source": [
        "user_similarity_df = pd.DataFrame(user_similarity, index = ratings_pivot.index, columns = ratings_pivot.index)\n",
        "item_similarity_df = pd.DataFrame(item_similarity, index = ratings_pivot.columns, columns = ratings_pivot.columns)"
      ]
    },
    {
      "cell_type": "code",
      "execution_count": null,
      "metadata": {
        "id": "knNrGVZaaMV5"
      },
      "outputs": [],
      "source": [
        "item_similarity_df.head()"
      ]
    },
    {
      "cell_type": "code",
      "execution_count": null,
      "metadata": {
        "id": "MU0_d9DOaMV6"
      },
      "outputs": [],
      "source": [
        "user_similarity_df.head()"
      ]
    },
    {
      "attachments": {},
      "cell_type": "markdown",
      "metadata": {},
      "source": [
        "## Explore results of cosine similarity filters\n",
        "\n",
        "### First with movies (items)\n",
        "\n",
        "This function will return the top 10 shows with the highest cosine similarity value"
      ]
    },
    {
      "cell_type": "code",
      "execution_count": null,
      "metadata": {
        "id": "cPh_1EhaaMV6"
      },
      "outputs": [],
      "source": [
        "def top_movies(name):\n",
        "    count = 1\n",
        "    print('Similar shows to {} include:\\n'.format(name))\n",
        "    for item in item_similarity_df.sort_values(by = name, ascending = False).index[1:11]:\n",
        "        print('No. {}: {}'.format(count, item))\n",
        "        count +=1  "
      ]
    },
    {
      "attachments": {},
      "cell_type": "markdown",
      "metadata": {},
      "source": [
        "Ask the function top_movies regarding one movie to get the 10 more similar"
      ]
    },
    {
      "cell_type": "code",
      "execution_count": null,
      "metadata": {
        "id": "5hc5sQBsaMV6",
        "tags": []
      },
      "outputs": [],
      "source": [
        "top_movies('Star Wars: Episode V - The Empire Strikes Back (1980)')"
      ]
    },
    {
      "cell_type": "code",
      "execution_count": null,
      "metadata": {
        "id": "K89PePThaMV6",
        "tags": []
      },
      "outputs": [],
      "source": [
        "top_movies('[REC] (2007)')"
      ]
    },
    {
      "cell_type": "code",
      "execution_count": null,
      "metadata": {
        "id": "df9yT31caMV6",
        "tags": []
      },
      "outputs": [],
      "source": [
        "top_movies('xXx (2002)')"
      ]
    },
    {
      "attachments": {},
      "cell_type": "markdown",
      "metadata": {},
      "source": [
        "### Same approach but now with users, instead of movies\n",
        "\n",
        "Top 10 users with highest cosine similarity from a user defined"
      ]
    },
    {
      "cell_type": "code",
      "execution_count": null,
      "metadata": {
        "id": "U5hwp9IVaMV6"
      },
      "outputs": [],
      "source": [
        "# This function will return the top 10 users with the highest similarity value \n",
        "\n",
        "def top_users(user):\n",
        "    \n",
        "    if user not in ratings_pivot.index:\n",
        "        return('No data available on user {}'.format(user))\n",
        "    \n",
        "    print('Most Similar Users:\\n')\n",
        "    sim_values = user_similarity_df.sort_values(by=user, ascending=False).loc[:,user].tolist()[1:11]\n",
        "    sim_users = user_similarity_df.sort_values(by=user, ascending=False).index[1:11]\n",
        "    zipped = zip(sim_users, sim_values)\n",
        "    for user, sim in zipped:\n",
        "        print('User #{0}, Similarity value: {1:.2f}'.format(user, sim)) "
      ]
    },
    {
      "cell_type": "code",
      "execution_count": null,
      "metadata": {
        "id": "yroIDCdbaMV7",
        "tags": []
      },
      "outputs": [],
      "source": [
        "top_users(7)"
      ]
    },
    {
      "cell_type": "code",
      "execution_count": null,
      "metadata": {
        "id": "-Zt_ytBYaMV7"
      },
      "outputs": [],
      "source": [
        "ratings_[ratings_['userId'] == 7].head(10)"
      ]
    },
    {
      "cell_type": "code",
      "execution_count": null,
      "metadata": {
        "id": "E-qtl7UjaMV7"
      },
      "outputs": [],
      "source": [
        "ratings_[ratings_['userId'] == 403].head(15)"
      ]
    },
    {
      "attachments": {},
      "cell_type": "markdown",
      "metadata": {},
      "source": [
        "## Another approach for recommenders - clustering models\n",
        "\n",
        "### Dimension reduction with PCA\n",
        "\n",
        "Data is too wide, so we require reducing the attributes - predictors with a known technique called Principal Component Analysis (aka PCA)"
      ]
    },
    {
      "cell_type": "code",
      "execution_count": null,
      "metadata": {
        "id": "et7n1e8vaMV7"
      },
      "outputs": [],
      "source": [
        "from sklearn.decomposition import PCA\n",
        "\n",
        "pca = PCA()\n",
        "pca.fit(ratings_pivot)\n",
        "pca_samples = pca.transform(ratings_pivot)"
      ]
    },
    {
      "attachments": {},
      "cell_type": "markdown",
      "metadata": {},
      "source": [
        "PCA compares the reduction of attributes with the capacity of explaining the variance\n",
        "\n",
        "More reduccion implies usually less explained variance... so we lose somehow \"resolution\""
      ]
    },
    {
      "cell_type": "code",
      "execution_count": null,
      "metadata": {
        "id": "pKxt3WFJaMV7"
      },
      "outputs": [],
      "source": [
        "plt.plot(np.cumsum(pca.explained_variance_ratio_))\n",
        "plt.xlabel('number of components')\n",
        "plt.ylabel('cumulative explained variance')"
      ]
    },
    {
      "cell_type": "code",
      "execution_count": null,
      "metadata": {
        "id": "70Dz0Y8UaMV8"
      },
      "outputs": [],
      "source": [
        "pca_df = pd.DataFrame(pca_samples[:,0:50])"
      ]
    },
    {
      "cell_type": "code",
      "execution_count": null,
      "metadata": {
        "id": "3SA9hBMFaMV8"
      },
      "outputs": [],
      "source": [
        "pca_df.head(20)"
      ]
    },
    {
      "attachments": {},
      "cell_type": "markdown",
      "metadata": {},
      "source": [
        "### Creation of the clustering model \n",
        "Used to segment and group movies or users by similarity, in this case, the Euclidian distance between users or movies"
      ]
    },
    {
      "cell_type": "code",
      "execution_count": null,
      "metadata": {
        "id": "eoOYsqFxaMV8"
      },
      "outputs": [],
      "source": [
        "from sklearn.cluster import KMeans\n",
        "\n",
        "sse = {}\n",
        "\n",
        "for k in range(1,20):\n",
        "    kmeans = KMeans(n_clusters = k)\n",
        "    kmeans.fit(pca_df)\n",
        "    sse[k] = kmeans.inertia_\n",
        "\n",
        "plt.figure(figsize=(15,5))\n",
        "plt.plot(list(sse.keys()), list(sse.values()))\n",
        "plt.show()"
      ]
    },
    {
      "attachments": {},
      "cell_type": "markdown",
      "metadata": {},
      "source": [
        "After comparing differnt numbers of clusters, we decide to use 15 as per the chart above\n"
      ]
    },
    {
      "cell_type": "code",
      "execution_count": null,
      "metadata": {
        "id": "JcVQ1tpDaMV8"
      },
      "outputs": [],
      "source": [
        "kmeans = KMeans(n_clusters = 15)\n",
        "kmeans.fit(pca_df)\n",
        "pca_df['label'] = kmeans.labels_"
      ]
    },
    {
      "cell_type": "code",
      "execution_count": null,
      "metadata": {
        "id": "2f0wjQN7aMV8"
      },
      "outputs": [],
      "source": [
        "sns.pairplot(pca_df, vars=[0,1,2], hue='label')"
      ]
    },
    {
      "cell_type": "code",
      "execution_count": null,
      "metadata": {
        "id": "LCHFbFQyaMV8"
      },
      "outputs": [],
      "source": [
        "ratings_pivot['label'] = pca_df['label']"
      ]
    },
    {
      "cell_type": "code",
      "execution_count": null,
      "metadata": {
        "id": "C84QDgqaaMV8"
      },
      "outputs": [],
      "source": [
        "cluster_ = ratings_pivot[ratings_pivot['label'] == 1].drop('label', axis=1)"
      ]
    },
    {
      "cell_type": "code",
      "execution_count": null,
      "metadata": {
        "id": "19d48r27aMV9"
      },
      "outputs": [],
      "source": [
        "cluster_.replace({0: np.nan}, inplace = True)"
      ]
    },
    {
      "cell_type": "code",
      "execution_count": null,
      "metadata": {
        "id": "2Z444jq4aMV9"
      },
      "outputs": [],
      "source": [
        "cluster_.mean().sort_values(ascending=False).head(10)"
      ]
    },
    {
      "attachments": {},
      "cell_type": "markdown",
      "metadata": {},
      "source": [
        "A loop that shows the top10 movies for each cluster defined"
      ]
    },
    {
      "cell_type": "code",
      "execution_count": null,
      "metadata": {
        "id": "oX3yXNlQaMV9",
        "tags": []
      },
      "outputs": [],
      "source": [
        "for i in range(15):\n",
        "    cluster_ = ratings_pivot[ratings_pivot['label'] == i].drop('label', axis=1)\n",
        "    cluster_.replace({0: np.nan}, inplace = True)\n",
        "    print('TOP10 movies for cluster ', i)\n",
        "    votes = cluster_.count()\n",
        "    most_voted_movies = votes[votes > 5]\n",
        "    print(cluster_[most_voted_movies.index].mean().sort_values(ascending=False).head(10))\n",
        "    print('-------')"
      ]
    },
    {
      "cell_type": "code",
      "execution_count": null,
      "metadata": {
        "id": "SeuqMB0saMV9"
      },
      "outputs": [],
      "source": []
    }
  ],
  "metadata": {
    "colab": {
      "name": "recommender_imdb.ipynb",
      "provenance": []
    },
    "kernelspec": {
      "display_name": "Python 3",
      "language": "python",
      "name": "python3"
    },
    "language_info": {
      "codemirror_mode": {
        "name": "ipython",
        "version": 3
      },
      "file_extension": ".py",
      "mimetype": "text/x-python",
      "name": "python",
      "nbconvert_exporter": "python",
      "pygments_lexer": "ipython3",
      "version": "3.7.4"
    }
  },
  "nbformat": 4,
  "nbformat_minor": 0
}
